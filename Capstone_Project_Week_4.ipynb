{
  "nbformat": 4,
  "nbformat_minor": 0,
  "metadata": {
    "colab": {
      "name": "Capstone Project Week 4.ipynb",
      "provenance": [],
      "authorship_tag": "ABX9TyNPWkr/2EJ5Qc5WQHhH7ufZ",
      "include_colab_link": true
    },
    "kernelspec": {
      "name": "python3",
      "display_name": "Python 3"
    }
  },
  "cells": [
    {
      "cell_type": "markdown",
      "metadata": {
        "id": "view-in-github",
        "colab_type": "text"
      },
      "source": [
        "<a href=\"https://colab.research.google.com/github/bigearn23/Coursera_Capsone/blob/main/Capstone_Project_Week_4.ipynb\" target=\"_parent\"><img src=\"https://colab.research.google.com/assets/colab-badge.svg\" alt=\"Open In Colab\"/></a>"
      ]
    },
    {
      "cell_type": "markdown",
      "metadata": {
        "id": "0z4QIRuX-QOn"
      },
      "source": [
        "\n",
        "\n",
        "#1.   Introduction/Business Problem\n",
        "\n",
        "\n",
        "Problem: I am a consultant for entrepreneurs and my clients often want advice on best locations to start their business.  In this project, I will be focusing on a client that wants to open up an Italian restaurant in New York City, but not sure the best location. They are not looking at any particular area within NYC, but they want to start their business where there is limited competition nearby, or they would like a location that may have competition, but that competition has a below average customer rating. \n"
      ]
    },
    {
      "cell_type": "markdown",
      "metadata": {
        "id": "spEQirjs-zTF"
      },
      "source": [
        "\n",
        "\n",
        "#2.   Data\n",
        "\n",
        "I will be utilizing Foursquare location data to understand where existing Italian restaurants are currently located as well as how highly rated those restaurants are. I am searching for a location that has a limited number of Italian restaurants in the neighborhood, or I would also accept a fair amount of Italian restaurants nearby, but all with less than average reviews. I will be using the Foursqaure API to determine location data and capture reviews, so Client secret and Client ID will be required.\n",
        "\n",
        "I will also be utilizing NYC neighborhood location data that includes longitude and latitude for each neighborhood to be able to identify which neighborhoods will be best fit for my client to open their Italian restaurant.\n",
        "\n",
        "I will first take the NYC data and put into a dataframe that will give me the Longitude/Latitude of each neighborhood.  From there, I will utilize Foursquare data to understand where other Italian Restaurants are in comparison to the neighborhood's Longitude/Latitude to understand which neighborhoods have the least density of Italian Restaurants.  I will also be utilizing Foursquare data to look at customer reviews to understand where the highest rated Italian restaurants are and where they are not, so I can help my client fill a gap where there are not any local Italian Restaurants with good ratings."
      ]
    },
    {
      "cell_type": "code",
      "metadata": {
        "id": "wdezX9Xz-F4p"
      },
      "source": [
        ""
      ],
      "execution_count": null,
      "outputs": []
    }
  ]
}