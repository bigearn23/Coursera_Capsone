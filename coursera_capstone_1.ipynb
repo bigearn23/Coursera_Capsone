{
  "nbformat": 4,
  "nbformat_minor": 0,
  "metadata": {
    "colab": {
      "name": "coursera_capstone_1.ipynb",
      "provenance": [],
      "authorship_tag": "ABX9TyMBt9aPCMre+UT3T02NGbWa",
      "include_colab_link": true
    },
    "kernelspec": {
      "name": "python3",
      "display_name": "Python 3"
    }
  },
  "cells": [
    {
      "cell_type": "markdown",
      "metadata": {
        "id": "view-in-github",
        "colab_type": "text"
      },
      "source": [
        "<a href=\"https://colab.research.google.com/github/bigearn23/Coursera_Capsone/blob/main/coursera_capstone_1.ipynb\" target=\"_parent\"><img src=\"https://colab.research.google.com/assets/colab-badge.svg\" alt=\"Open In Colab\"/></a>"
      ]
    },
    {
      "cell_type": "markdown",
      "metadata": {
        "id": "ZVDF9jzU24ay"
      },
      "source": [
        "###This Notebook will be used for the Coursera Capstone Project for IBM Data Science course"
      ]
    },
    {
      "cell_type": "code",
      "metadata": {
        "id": "DkYk1PhK2ycc"
      },
      "source": [
        "#import libraries\n",
        "import pandas as pd\n",
        "import numpy as mp\n"
      ],
      "execution_count": 1,
      "outputs": []
    },
    {
      "cell_type": "code",
      "metadata": {
        "id": "1SUdGKQ63oll",
        "outputId": "4b91045e-ed15-4f73-c767-5fcd95fd974b",
        "colab": {
          "base_uri": "https://localhost:8080/",
          "height": 34
        }
      },
      "source": [
        "print(\"Hello Capstone Project Course!\")"
      ],
      "execution_count": 2,
      "outputs": [
        {
          "output_type": "stream",
          "text": [
            "Hello Capstone Project Course!\n"
          ],
          "name": "stdout"
        }
      ]
    }
  ]
}